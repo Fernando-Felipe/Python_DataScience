{
 "cells": [
  {
   "cell_type": "markdown",
   "id": "df0493b9",
   "metadata": {},
   "source": [
    "Aquecimento"
   ]
  },
  {
   "cell_type": "markdown",
   "id": "b8723bca",
   "metadata": {},
   "source": [
    "1-"
   ]
  },
  {
   "cell_type": "code",
   "execution_count": null,
   "id": "398749c3",
   "metadata": {},
   "outputs": [],
   "source": [
    "!pip install matplotlib==3.7.1"
   ]
  },
  {
   "cell_type": "code",
   "execution_count": null,
   "id": "1e599724",
   "metadata": {},
   "outputs": [],
   "source": [
    "import numpy as np\n",
    "import matplotlib.pyplot as plt"
   ]
  },
  {
   "cell_type": "code",
   "execution_count": 16,
   "id": "01550c9b",
   "metadata": {},
   "outputs": [
    {
     "data": {
      "text/plain": [
       "1"
      ]
     },
     "execution_count": 16,
     "metadata": {},
     "output_type": "execute_result"
    }
   ],
   "source": [
    "from random import choice\n",
    "lista = [8, 12, 54, 23, 43, 1, 90, 87, 105, 77]\n",
    "escolhido = choice(lista)\n",
    "escolhido\n"
   ]
  },
  {
   "cell_type": "code",
   "execution_count": 25,
   "id": "f6990856",
   "metadata": {},
   "outputs": [
    {
     "data": {
      "text/plain": [
       "20"
      ]
     },
     "execution_count": 25,
     "metadata": {},
     "output_type": "execute_result"
    }
   ],
   "source": [
    "from random import randrange, choice\n",
    "sorteado = randrange(100)\n",
    "sorteado\n"
   ]
  },
  {
   "cell_type": "code",
   "execution_count": 29,
   "id": "0f29560a",
   "metadata": {},
   "outputs": [
    {
     "name": "stdout",
     "output_type": "stream",
     "text": [
      "O resultado de 2 elevado a 2 é 4.0\n"
     ]
    }
   ],
   "source": [
    "from math import pow\n",
    "n = int(input(\"Digite um número:\"))\n",
    "n2 = int(input(\"Digite outro número:\"))\n",
    "print(f\"O resultado de {n} elevado a {n2} é {pow(n, n2)}\")"
   ]
  },
  {
   "cell_type": "code",
   "execution_count": 30,
   "id": "8c9e33d1",
   "metadata": {},
   "outputs": [
    {
     "data": {
      "text/plain": [
       "5"
      ]
     },
     "execution_count": 30,
     "metadata": {},
     "output_type": "execute_result"
    }
   ],
   "source": [
    "from random import choice\n",
    "participantes = int(input(\"Digite o numero de participantes:\" ))\n",
    "ganhador = choice(range(participantes))\n",
    "ganhador"
   ]
  },
  {
   "cell_type": "code",
   "execution_count": 33,
   "id": "442f61e6",
   "metadata": {},
   "outputs": [
    {
     "name": "stdout",
     "output_type": "stream",
     "text": [
      "Olá eu, seu token é 1850\n"
     ]
    }
   ],
   "source": [
    "from random import randrange\n",
    "\n",
    "nome = input(\"Digite seu nome: \")\n",
    "token = randrange(1000, 9999,2)\n",
    "print(f\"Olá {nome}, seu token é {token}\")\n"
   ]
  },
  {
   "cell_type": "code",
   "execution_count": 51,
   "id": "429637fb",
   "metadata": {},
   "outputs": [
    {
     "data": {
      "text/plain": [
       "['manga', 'coco', 'kiwi']"
      ]
     },
     "execution_count": 51,
     "metadata": {},
     "output_type": "execute_result"
    }
   ],
   "source": [
    "from random import sample\n",
    "frutas = [\"maçã\", \"banana\", \"uva\", \"pêra\", \n",
    "          \"manga\", \"coco\", \"melancia\", \"mamão\",\n",
    "          \"laranja\", \"abacaxi\", \"kiwi\", \"ameixa\"]\n",
    "selecionadas = sample(frutas, 3)\n",
    "selecionadas"
   ]
  },
  {
   "cell_type": "code",
   "execution_count": 54,
   "id": "3e60c196",
   "metadata": {},
   "outputs": [
    {
     "name": "stdout",
     "output_type": "stream",
     "text": [
      "A salada surpresa é: kiwi, maçã e ameixa\n"
     ]
    }
   ],
   "source": [
    "from random import choices\n",
    "\n",
    "frutas = [\"maçã\", \"banana\", \"uva\", \"pêra\",\"manga\", \"coco\", \n",
    "          \"melancia\", \"mamão\", \"laranja\", \"abacaxi\", \"kiwi\", \"ameixa\"]\n",
    "\n",
    "salada = choices(frutas,k=3)\n",
    "\n",
    "print(f\"A salada surpresa é: {salada[0]}, {salada[1]} e {salada[2]}\")"
   ]
  },
  {
   "cell_type": "code",
   "execution_count": 62,
   "id": "132e527f",
   "metadata": {},
   "outputs": [
    {
     "name": "stdout",
     "output_type": "stream",
     "text": [
      "A raiz quadrada de 2 não é um número inteiro.\n",
      "A raiz quadrada de 8 não é um número inteiro.\n",
      "A raiz quadrada de 15 não é um número inteiro.\n",
      "A raiz quadrada de 23 não é um número inteiro.\n",
      "A raiz quadrada de 91 não é um número inteiro.\n",
      "A raiz quadrada de 112 não é um número inteiro.\n",
      "A raiz quadrada de 256 é um número inteiro.\n"
     ]
    },
    {
     "data": {
      "text/plain": [
       "[1.4142135623730951,\n",
       " 2.8284271247461903,\n",
       " 3.872983346207417,\n",
       " 4.795831523312719,\n",
       " 9.539392014169456,\n",
       " 10.583005244258363,\n",
       " 16.0]"
      ]
     },
     "execution_count": 62,
     "metadata": {},
     "output_type": "execute_result"
    }
   ],
   "source": [
    "from math import sqrt\n",
    "numeros = [2, 8, 15, 23, 91, 112, 256]\n",
    "for n in numeros:\n",
    "    raizes = sqrt(n)\n",
    "\n",
    "    if raizes%1==0:\n",
    "        print(f\"A raiz quadrada de {n} é um número inteiro.\")\n",
    "    else:\n",
    "        print(f\"A raiz quadrada de {n} não é um número inteiro.\")\n",
    "\n",
    "raiz = [sqrt(n) for n in numeros]\n",
    "raiz"
   ]
  },
  {
   "cell_type": "code",
   "execution_count": null,
   "id": "53c5da21",
   "metadata": {},
   "outputs": [
    {
     "name": "stdout",
     "output_type": "stream",
     "text": [
      "A área do jardim é: 79 e o preço da grama é: R$ 1963.5\n"
     ]
    }
   ],
   "source": [
    "from math import pi, pow\n",
    "raio = float(input(\"Digite o valor do raio do jardim: \"))\n",
    "area = pi*pow(raio,2)\n",
    "preco = area*25\n",
    "print(f\"A área do jardim é: {round(area)} e o preço da grama é: R$ {round(preco,4)}\")"
   ]
  }
 ],
 "metadata": {
  "kernelspec": {
   "display_name": "Python 3",
   "language": "python",
   "name": "python3"
  },
  "language_info": {
   "codemirror_mode": {
    "name": "ipython",
    "version": 3
   },
   "file_extension": ".py",
   "mimetype": "text/x-python",
   "name": "python",
   "nbconvert_exporter": "python",
   "pygments_lexer": "ipython3",
   "version": "3.9.13"
  }
 },
 "nbformat": 4,
 "nbformat_minor": 5
}
