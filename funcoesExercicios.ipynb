{
 "cells": [
  {
   "cell_type": "markdown",
   "id": "1fab7b58",
   "metadata": {},
   "source": [
    "1."
   ]
  },
  {
   "cell_type": "code",
   "execution_count": 9,
   "id": "26517c62",
   "metadata": {},
   "outputs": [],
   "source": [
    "lista = [16, 14, 63, 65, 17, 99, 70, 11, 20, 48, 79, 32, 17, 89, 12, 25, 66]"
   ]
  },
  {
   "cell_type": "code",
   "execution_count": 2,
   "id": "f168fced",
   "metadata": {},
   "outputs": [
    {
     "data": {
      "text/plain": [
       "17"
      ]
     },
     "execution_count": 2,
     "metadata": {},
     "output_type": "execute_result"
    }
   ],
   "source": [
    "len(lista)"
   ]
  },
  {
   "cell_type": "code",
   "execution_count": 30,
   "id": "bd49e2c1",
   "metadata": {},
   "outputs": [
    {
     "data": {
      "text/plain": [
       "99"
      ]
     },
     "execution_count": 30,
     "metadata": {},
     "output_type": "execute_result"
    }
   ],
   "source": [
    "max(lista)"
   ]
  },
  {
   "cell_type": "code",
   "execution_count": 31,
   "id": "c780c2b7",
   "metadata": {},
   "outputs": [
    {
     "data": {
      "text/plain": [
       "11"
      ]
     },
     "execution_count": 31,
     "metadata": {},
     "output_type": "execute_result"
    }
   ],
   "source": [
    "min(lista)"
   ]
  },
  {
   "cell_type": "code",
   "execution_count": 26,
   "id": "b8dbd3d0",
   "metadata": {},
   "outputs": [
    {
     "data": {
      "text/plain": [
       "743"
      ]
     },
     "execution_count": 26,
     "metadata": {},
     "output_type": "execute_result"
    }
   ],
   "source": [
    "sum(lista)"
   ]
  },
  {
   "cell_type": "markdown",
   "id": "27848f90",
   "metadata": {},
   "source": [
    "2."
   ]
  },
  {
   "cell_type": "code",
   "execution_count": 4,
   "id": "992f9d64",
   "metadata": {},
   "outputs": [
    {
     "name": "stdout",
     "output_type": "stream",
     "text": [
      "5 x 1 = 5\n",
      "5 x 2 = 10\n",
      "5 x 3 = 15\n",
      "5 x 4 = 20\n",
      "5 x 5 = 25\n",
      "5 x 6 = 30\n",
      "5 x 7 = 35\n",
      "5 x 8 = 40\n",
      "5 x 9 = 45\n",
      "5 x 10 = 50\n"
     ]
    }
   ],
   "source": [
    "n = int(input(\"Digite um número para ver a tabuada: \"))\n",
    "\n",
    "def tabuadafnc2(x):\n",
    "    for i in range(1,11):\n",
    "        tabuada = x * i\n",
    "        print(f\"{x} x {i} = {tabuada}\")\n",
    "\n",
    "tabuadafnc2(n)"
   ]
  },
  {
   "cell_type": "code",
   "execution_count": 3,
   "id": "88abc3f9",
   "metadata": {},
   "outputs": [
    {
     "name": "stdout",
     "output_type": "stream",
     "text": [
      "[2, 4, 6, 8, 10, 12, 14, 16, 18, 20]\n"
     ]
    }
   ],
   "source": [
    "tabuadafunc = lambda x: [x * i for i in range(1, 11)]\n",
    "print(tabuadafunc(2))"
   ]
  },
  {
   "cell_type": "markdown",
   "id": "7fb505c6",
   "metadata": {},
   "source": [
    "3."
   ]
  },
  {
   "cell_type": "code",
   "execution_count": 10,
   "id": "22e9aca0",
   "metadata": {},
   "outputs": [
    {
     "name": "stdout",
     "output_type": "stream",
     "text": [
      "[24, 99]\n"
     ]
    }
   ],
   "source": [
    "listan = [97, 80, 94, 88, 80, 1, 16, 53, 62, 32, 24, 99]\n",
    "mult3 = list(filter(lambda x: x % 3 == 0, listan))\n",
    "print(mult3)"
   ]
  },
  {
   "cell_type": "code",
   "execution_count": 13,
   "id": "6d65f11d",
   "metadata": {},
   "outputs": [],
   "source": [
    "listan = [97, 80, 94, 88, 80, 1, 16, 53, 62, 32, 24, 99]\n",
    "multi3 = []\n",
    "\n",
    "def multiplo3(lista: list) -> list:\n",
    "    for i in lista:\n",
    "        if i % 3 == 0:\n",
    "            multi3.append(i)\n",
    "    return multi3"
   ]
  },
  {
   "cell_type": "code",
   "execution_count": 14,
   "id": "022ec45c",
   "metadata": {},
   "outputs": [
    {
     "data": {
      "text/plain": [
       "[24, 99]"
      ]
     },
     "execution_count": 14,
     "metadata": {},
     "output_type": "execute_result"
    }
   ],
   "source": [
    "multiplo3(listan)"
   ]
  },
  {
   "cell_type": "markdown",
   "id": "033575ac",
   "metadata": {},
   "source": [
    "4."
   ]
  },
  {
   "cell_type": "code",
   "execution_count": null,
   "id": "fcfa506a",
   "metadata": {},
   "outputs": [],
   "source": [
    "notas = []\n",
    "\n",
    "for i in range(5):\n",
    "    nota = float(input(\"Digite sua nota:\"))\n",
    "    notas.append(nota)\n",
    "\n",
    "def media(notas: list) -> float:\n",
    "    media = sum(notas) / len(notas)\n",
    "    return media\n",
    "\n",
    "def verifica(media: float) -> str:\n",
    "    if media >= 6:\n",
    "        return \"Aprovado\"\n",
    "    else:\n",
    "        return \"Reprovado\"\n",
    "\n",
    "print(f\"Estudante obteve a média: {media(notas)} qual a maior sendo {max(notas)} e a menor sendo {min(notas)}\")\n"
   ]
  }
 ],
 "metadata": {
  "kernelspec": {
   "display_name": "Python 3",
   "language": "python",
   "name": "python3"
  },
  "language_info": {
   "codemirror_mode": {
    "name": "ipython",
    "version": 3
   },
   "file_extension": ".py",
   "mimetype": "text/x-python",
   "name": "python",
   "nbconvert_exporter": "python",
   "pygments_lexer": "ipython3",
   "version": "3.9.13"
  }
 },
 "nbformat": 4,
 "nbformat_minor": 5
}
